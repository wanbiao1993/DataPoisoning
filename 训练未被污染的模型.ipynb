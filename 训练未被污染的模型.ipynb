{
 "cells": [
  {
   "cell_type": "code",
   "execution_count": 2,
   "id": "3ce13f55-c209-4131-92df-30ffa9de54a7",
   "metadata": {},
   "outputs": [],
   "source": [
    "%run './基本定义.ipynb'"
   ]
  },
  {
   "cell_type": "markdown",
   "id": "4cdf1bba-7aa6-44e4-a643-adc2781bfd96",
   "metadata": {},
   "source": [
    "# 1.开始训练模型"
   ]
  },
  {
   "cell_type": "code",
   "execution_count": 3,
   "id": "05aca588-ba58-49c6-b780-7c8dbe1d416f",
   "metadata": {},
   "outputs": [
    {
     "name": "stderr",
     "output_type": "stream",
     "text": [
      "2023-12-19 17:28:16,800 INFO     \n",
      "\n",
      "2023-12-19 17:28:16,802 INFO     Model: TransE\n",
      "2023-12-19 17:28:16,803 INFO     Data Path: data/wn18rr\n",
      "2023-12-19 17:28:16,804 INFO     #entity: 40943\n",
      "2023-12-19 17:28:16,805 INFO     #relation: 11\n",
      "2023-12-19 17:28:16,805 INFO     #train: 86835\t#valid: 3034\t#test: 3134\n",
      "2023-12-19 17:28:23,817 INFO     Model Parameter Configuration:\n",
      "2023-12-19 17:28:23,818 INFO     Parameter gamma: torch.Size([1]), require_grad = False\n",
      "2023-12-19 17:28:23,819 INFO     Parameter embedding_range: torch.Size([1]), require_grad = False\n",
      "2023-12-19 17:28:23,820 INFO     Parameter entity_embedding: torch.Size([40943, 200]), require_grad = True\n",
      "2023-12-19 17:28:23,820 INFO     Parameter relation_embedding: torch.Size([11, 200]), require_grad = True\n",
      "2023-12-19 17:28:23,822 INFO     Start Training...\n",
      "2023-12-19 17:28:23,823 INFO     args is {'cuda': True, 'evaluate_train': False, 'double_entity_embedding': False, 'double_relation_embedding': False, 'negative_sample_size': 1024, 'hidden_dim': 200, 'gamma': 6.0, 'negative_adversarial_sampling': True, 'adversarial_temperature': 0.5, 'regularization': 0.0, 'test_batch_size': 8, 'uni_weight': False, 'learning_rate': 0.0005, 'cpu_num': 10, 'comments': '\\n', 'do_train': True, 'do_test': True, 'data_path': 'data/wn18rr', 'model': 'TransE', 'batch_size': 512, 'max_steps': 40000, 'warm_up_steps': 20000, 'no_save': True, 'save_path': './models/TransE_wn18rr_baseline', 'save_checkpoint_steps': 10000, 'valid_steps': 10000, 'log_steps': 2000, 'classify_steps': 5000, 'test_log_steps': 1000, 'nentity': 40943, 'nrelation': 11, 'fake': None, 'do_valid': False}\n",
      "2023-12-19 17:28:23,823 INFO     learning_rate = 0.000500\n",
      "2023-12-19 17:28:24,376 INFO     Training average positive_sample_loss at step 0: 1.001199\n",
      "2023-12-19 17:28:24,380 INFO     Training average negative_sample_loss at step 0: 0.491200\n",
      "2023-12-19 17:28:24,382 INFO     Training average loss at step 0: 0.746199\n",
      "2023-12-19 17:28:56,716 INFO     Training average positive_sample_loss at step 2000: 0.442722\n",
      "2023-12-19 17:28:56,719 INFO     Training average negative_sample_loss at step 2000: 0.264015\n",
      "2023-12-19 17:28:56,720 INFO     Training average loss at step 2000: 0.353369\n",
      "2023-12-19 17:29:29,247 INFO     Training average positive_sample_loss at step 4000: 0.134535\n",
      "2023-12-19 17:29:29,249 INFO     Training average negative_sample_loss at step 4000: 0.080333\n",
      "2023-12-19 17:29:29,250 INFO     Training average loss at step 4000: 0.107434\n",
      "2023-12-19 17:30:02,191 INFO     Training average positive_sample_loss at step 6000: 0.090232\n",
      "2023-12-19 17:30:02,194 INFO     Training average negative_sample_loss at step 6000: 0.051532\n",
      "2023-12-19 17:30:02,195 INFO     Training average loss at step 6000: 0.070882\n",
      "2023-12-19 17:30:34,944 INFO     Training average positive_sample_loss at step 8000: 0.073563\n",
      "2023-12-19 17:30:34,946 INFO     Training average negative_sample_loss at step 8000: 0.044364\n",
      "2023-12-19 17:30:34,947 INFO     Training average loss at step 8000: 0.058964\n",
      "2023-12-19 17:31:07,611 INFO     Training average positive_sample_loss at step 10000: 0.066813\n",
      "2023-12-19 17:31:07,614 INFO     Training average negative_sample_loss at step 10000: 0.042709\n",
      "2023-12-19 17:31:07,614 INFO     Training average loss at step 10000: 0.054761\n",
      "2023-12-19 17:31:40,693 INFO     Training average positive_sample_loss at step 12000: 0.063621\n",
      "2023-12-19 17:31:40,696 INFO     Training average negative_sample_loss at step 12000: 0.042138\n",
      "2023-12-19 17:31:40,697 INFO     Training average loss at step 12000: 0.052880\n",
      "2023-12-19 17:32:12,903 INFO     Training average positive_sample_loss at step 14000: 0.061844\n",
      "2023-12-19 17:32:12,905 INFO     Training average negative_sample_loss at step 14000: 0.041850\n",
      "2023-12-19 17:32:12,906 INFO     Training average loss at step 14000: 0.051847\n",
      "2023-12-19 17:32:46,461 INFO     Training average positive_sample_loss at step 16000: 0.060864\n",
      "2023-12-19 17:32:46,464 INFO     Training average negative_sample_loss at step 16000: 0.041862\n",
      "2023-12-19 17:32:46,465 INFO     Training average loss at step 16000: 0.051363\n",
      "2023-12-19 17:33:17,188 INFO     Training average positive_sample_loss at step 18000: 0.060171\n",
      "2023-12-19 17:33:17,190 INFO     Training average negative_sample_loss at step 18000: 0.042334\n",
      "2023-12-19 17:33:17,191 INFO     Training average loss at step 18000: 0.051253\n",
      "2023-12-19 17:33:49,042 INFO     Training average positive_sample_loss at step 20000: 0.059622\n",
      "2023-12-19 17:33:49,048 INFO     Training average negative_sample_loss at step 20000: 0.042192\n",
      "2023-12-19 17:33:49,050 INFO     Training average loss at step 20000: 0.050907\n",
      "2023-12-19 17:33:49,053 INFO     Change learning_rate to 0.000050 at step 20000\n",
      "2023-12-19 17:34:22,739 INFO     Training average positive_sample_loss at step 22000: 0.046249\n",
      "2023-12-19 17:34:22,743 INFO     Training average negative_sample_loss at step 22000: 0.042466\n",
      "2023-12-19 17:34:22,744 INFO     Training average loss at step 22000: 0.044357\n",
      "2023-12-19 17:34:56,098 INFO     Training average positive_sample_loss at step 24000: 0.042861\n",
      "2023-12-19 17:34:56,102 INFO     Training average negative_sample_loss at step 24000: 0.041947\n",
      "2023-12-19 17:34:56,102 INFO     Training average loss at step 24000: 0.042404\n",
      "2023-12-19 17:35:30,605 INFO     Training average positive_sample_loss at step 26000: 0.042971\n",
      "2023-12-19 17:35:30,607 INFO     Training average negative_sample_loss at step 26000: 0.041607\n",
      "2023-12-19 17:35:30,608 INFO     Training average loss at step 26000: 0.042289\n",
      "2023-12-19 17:36:04,108 INFO     Training average positive_sample_loss at step 28000: 0.043175\n",
      "2023-12-19 17:36:04,111 INFO     Training average negative_sample_loss at step 28000: 0.041353\n",
      "2023-12-19 17:36:04,112 INFO     Training average loss at step 28000: 0.042264\n",
      "2023-12-19 17:36:37,440 INFO     Training average positive_sample_loss at step 30000: 0.043351\n",
      "2023-12-19 17:36:37,442 INFO     Training average negative_sample_loss at step 30000: 0.041283\n",
      "2023-12-19 17:36:37,443 INFO     Training average loss at step 30000: 0.042317\n",
      "2023-12-19 17:37:10,747 INFO     Training average positive_sample_loss at step 32000: 0.043450\n",
      "2023-12-19 17:37:10,751 INFO     Training average negative_sample_loss at step 32000: 0.041564\n",
      "2023-12-19 17:37:10,752 INFO     Training average loss at step 32000: 0.042507\n",
      "2023-12-19 17:37:44,277 INFO     Training average positive_sample_loss at step 34000: 0.043519\n",
      "2023-12-19 17:37:44,280 INFO     Training average negative_sample_loss at step 34000: 0.041160\n",
      "2023-12-19 17:37:44,281 INFO     Training average loss at step 34000: 0.042339\n",
      "2023-12-19 17:38:18,225 INFO     Training average positive_sample_loss at step 36000: 0.043534\n",
      "2023-12-19 17:38:18,232 INFO     Training average negative_sample_loss at step 36000: 0.041331\n",
      "2023-12-19 17:38:18,233 INFO     Training average loss at step 36000: 0.042432\n",
      "2023-12-19 17:38:52,109 INFO     Training average positive_sample_loss at step 38000: 0.043520\n",
      "2023-12-19 17:38:52,111 INFO     Training average negative_sample_loss at step 38000: 0.041356\n",
      "2023-12-19 17:38:52,112 INFO     Training average loss at step 38000: 0.042438\n"
     ]
    }
   ],
   "source": [
    "\n",
    "## 使用transE模型，wn18rr数据集\n",
    "\n",
    "## 可修改model参数，训练rotate模型\n",
    "## 可修改data_path参数，指定训练的数据集\n",
    "\n",
    "base_args={\n",
    "    'cuda': True,\n",
    "    'evaluate_train': False,\n",
    "    'double_entity_embedding': False, \n",
    "    'double_relation_embedding': False, \n",
    "    'negative_sample_size': 1024, \n",
    "    'hidden_dim': 200, \n",
    "    'gamma': 6.0, \n",
    "    'negative_adversarial_sampling': True, \n",
    "    'adversarial_temperature': 0.5, \n",
    "    'regularization': 0.0, \n",
    "    'test_batch_size': 8, \n",
    "    'uni_weight': False, \n",
    "    'learning_rate': 0.0005,\n",
    "    'cpu_num': 10, \n",
    "    'comments': '\\n', \n",
    "}\n",
    "\n",
    "args={\n",
    "    'do_train': True, \n",
    "    'do_test': True, \n",
    "    'data_path': 'data/wn18rr', \n",
    "    'model': 'TransE', \n",
    "    'batch_size': 512, \n",
    "    'max_steps': 40000, ## 经验数据 RotatE FB15k-237 30000\n",
    "                        ## RotatE wn18rr 30000\n",
    "                        ## TransE FB15k-237 20000\n",
    "                        ## TransE wn18rr 40000\n",
    "    'warm_up_steps': 20000, \n",
    "    'no_save': True, \n",
    "    'save_path': './models/TransE_wn18rr_baseline', \n",
    "    'save_checkpoint_steps': 10000, \n",
    "    'valid_steps': 10000, \n",
    "    'log_steps': 2000, \n",
    "    'classify_steps': 5000, \n",
    "    'test_log_steps': 1000, \n",
    "    'nentity': 40943, \n",
    "    'nrelation': 11,\n",
    "    'fake':None,\n",
    "    'do_valid':False\n",
    "}\n",
    "args = {**base_args,**args}\n",
    "log_filename = \"train\"\n",
    "set_logger(args, filename=log_filename)\n",
    "input_data = get_input_data(args)\n",
    "trainer = BaseTrainer.get_trainer(input_data, args)\n",
    "kge_model = trainer.kge_model\n",
    "logging.info('Start Training...')\n",
    "logging.info(f\"args is {args}\")\n",
    "logging.info('learning_rate = %f' % trainer.lr)\n",
    "for step in range(args['max_steps']):\n",
    "    trainer.basicTrainStep(step)\n",
    "trainer.save_model()"
   ]
  },
  {
   "cell_type": "markdown",
   "id": "8767774f-c6d4-4d6b-941e-97904c033b22",
   "metadata": {},
   "source": [
    "# 2. 验证集"
   ]
  },
  {
   "cell_type": "code",
   "execution_count": 4,
   "id": "fbcf626c-15f0-41fa-98d2-e2f7c4056a5d",
   "metadata": {},
   "outputs": [
    {
     "name": "stderr",
     "output_type": "stream",
     "text": [
      "2023-12-19 17:48:02,680 INFO     Evaluating on Valid Dataset...\n",
      "2023-12-19 17:48:03,622 INFO     Evaluating the model... (0/760)\n",
      "2023-12-19 17:48:24,820 INFO     len of triple2mode2ranking: 3034\n",
      "2023-12-19 17:48:24,839 INFO     Valid MRR at step 40000: 0.224202\n",
      "2023-12-19 17:48:24,840 INFO     Valid MR at step 40000: 3315.136948\n",
      "2023-12-19 17:48:24,841 INFO     Valid HITS@1 at step 40000: 0.015985\n",
      "2023-12-19 17:48:24,842 INFO     Valid HITS@3 at step 40000: 0.400626\n",
      "2023-12-19 17:48:24,842 INFO     Valid HITS@10 at step 40000: 0.527851\n",
      "2023-12-19 17:48:24,843 INFO     Valid 1_MR at step 40000: 1.000000\n",
      "2023-12-19 17:48:24,844 INFO     Valid 1_MRR at step 40000: 1.000000\n",
      "2023-12-19 17:48:24,844 INFO     Valid 1_NUM at step 40000: 60.000000\n",
      "2023-12-19 17:48:24,845 INFO     Valid 10_MR at step 40000: 2.799632\n",
      "2023-12-19 17:48:24,846 INFO     Valid 10_MRR at step 40000: 0.425411\n",
      "2023-12-19 17:48:24,846 INFO     Valid 10_NUM at step 40000: 2720.000000\n",
      "2023-12-19 17:48:24,849 INFO     Valid 100_MR at step 40000: 26.912264\n",
      "2023-12-19 17:48:24,850 INFO     Valid 100_MRR at step 40000: 0.106224\n",
      "2023-12-19 17:48:24,850 INFO     Valid 100_NUM at step 40000: 1060.000000\n"
     ]
    }
   ],
   "source": [
    "logging.info('Evaluating on Valid Dataset...')\n",
    "metrics = kge_model.test_step(kge_model, input_data.valid_triples, input_data.all_true_triples, args)\n",
    "log_metrics('Valid', args['max_steps'], metrics)"
   ]
  },
  {
   "cell_type": "markdown",
   "id": "1b9f446d-78b6-43ef-9a7e-b81c5b1a0f7d",
   "metadata": {},
   "source": [
    "# 3. 测试集"
   ]
  },
  {
   "cell_type": "code",
   "execution_count": 5,
   "id": "588dce41-f649-45cd-8012-4ef4b1625f9f",
   "metadata": {},
   "outputs": [
    {
     "name": "stderr",
     "output_type": "stream",
     "text": [
      "2023-12-19 17:48:34,628 INFO     Evaluating on Test Dataset...\n",
      "2023-12-19 17:48:35,381 INFO     Evaluating the model... (0/784)\n",
      "2023-12-19 17:48:57,039 INFO     len of triple2mode2ranking: 3134\n",
      "2023-12-19 17:48:57,057 INFO     Test MRR at step 40000: 0.225509\n",
      "2023-12-19 17:48:57,058 INFO     Test MR at step 40000: 3286.567645\n",
      "2023-12-19 17:48:57,059 INFO     Test HITS@1 at step 40000: 0.016433\n",
      "2023-12-19 17:48:57,060 INFO     Test HITS@3 at step 40000: 0.402521\n",
      "2023-12-19 17:48:57,061 INFO     Test HITS@10 at step 40000: 0.529675\n",
      "2023-12-19 17:48:57,062 INFO     Test 1_MR at step 40000: 1.000000\n",
      "2023-12-19 17:48:57,063 INFO     Test 1_MRR at step 40000: 1.000000\n",
      "2023-12-19 17:48:57,063 INFO     Test 1_NUM at step 40000: 62.000000\n",
      "2023-12-19 17:48:57,064 INFO     Test 10_MR at step 40000: 2.780384\n",
      "2023-12-19 17:48:57,065 INFO     Test 10_MRR at step 40000: 0.424704\n",
      "2023-12-19 17:48:57,066 INFO     Test 10_NUM at step 40000: 2814.000000\n",
      "2023-12-19 17:48:57,066 INFO     Test 100_MR at step 40000: 24.937739\n",
      "2023-12-19 17:48:57,067 INFO     Test 100_MRR at step 40000: 0.110752\n",
      "2023-12-19 17:48:57,068 INFO     Test 100_NUM at step 40000: 1044.000000\n"
     ]
    }
   ],
   "source": [
    "logging.info('Evaluating on Test Dataset...')\n",
    "metrics = kge_model.test_step(kge_model, input_data.test_triples, input_data.all_true_triples, args)\n",
    "log_metrics('Test', args['max_steps'], metrics)"
   ]
  }
 ],
 "metadata": {
  "kernelspec": {
   "display_name": "Python 3 (ipykernel)",
   "language": "python",
   "name": "python3"
  },
  "language_info": {
   "codemirror_mode": {
    "name": "ipython",
    "version": 3
   },
   "file_extension": ".py",
   "mimetype": "text/x-python",
   "name": "python",
   "nbconvert_exporter": "python",
   "pygments_lexer": "ipython3",
   "version": "3.8.10"
  }
 },
 "nbformat": 4,
 "nbformat_minor": 5
}
