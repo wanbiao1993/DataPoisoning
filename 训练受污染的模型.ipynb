{
 "cells": [
  {
   "cell_type": "code",
   "execution_count": 1,
   "id": "61ff5e0b-3904-4f3b-8017-b8e40b56bd4a",
   "metadata": {},
   "outputs": [],
   "source": [
    "%run 基本定义.ipynb"
   ]
  },
  {
   "cell_type": "markdown",
   "id": "95c98bc8-5415-4b0b-9003-c952da00520e",
   "metadata": {},
   "source": [
    "# 0. 训练受污染的样本"
   ]
  },
  {
   "cell_type": "code",
   "execution_count": 2,
   "id": "84a7e460-e30a-448b-b9c5-104a6074ec59",
   "metadata": {},
   "outputs": [
    {
     "name": "stderr",
     "output_type": "stream",
     "text": [
      "2023-12-19 20:11:40,287 INFO     \n",
      "\n",
      "2023-12-19 20:11:40,288 INFO     Model: TransE\n",
      "2023-12-19 20:11:40,289 INFO     Data Path: data/wn18rr\n",
      "2023-12-19 20:11:40,289 INFO     #entity: 40943\n",
      "2023-12-19 20:11:40,290 INFO     #relation: 11\n",
      "2023-12-19 20:11:40,291 INFO     #train: 86935\t#valid: 3034\t#test: 100\n",
      "2023-12-19 20:11:46,728 INFO     Model Parameter Configuration:\n",
      "2023-12-19 20:11:46,729 INFO     Parameter gamma: torch.Size([1]), require_grad = False\n",
      "2023-12-19 20:11:46,729 INFO     Parameter embedding_range: torch.Size([1]), require_grad = False\n",
      "2023-12-19 20:11:46,730 INFO     Parameter entity_embedding: torch.Size([40943, 200]), require_grad = True\n",
      "2023-12-19 20:11:46,731 INFO     Parameter relation_embedding: torch.Size([11, 200]), require_grad = True\n",
      "2023-12-19 20:11:46,732 INFO     Start Training...\n",
      "2023-12-19 20:11:46,733 INFO     args is {'cuda': True, 'evaluate_train': False, 'double_entity_embedding': False, 'double_relation_embedding': False, 'negative_sample_size': 1024, 'hidden_dim': 200, 'gamma': 6.0, 'negative_adversarial_sampling': True, 'adversarial_temperature': 0.5, 'regularization': 0.0, 'test_batch_size': 8, 'uni_weight': False, 'learning_rate': 0.0005, 'cpu_num': 10, 'comments': '\\n', 'do_train': True, 'do_test': True, 'data_path': 'data/wn18rr', 'model': 'TransE', 'batch_size': 512, 'max_steps': 1000, 'warm_up_steps': 20000, 'no_save': True, 'save_path': './models/TransE_wn18rr_baseline', 'save_checkpoint_steps': 10000, 'valid_steps': 10000, 'log_steps': 2000, 'classify_steps': 5000, 'test_log_steps': 1000, 'nentity': 40943, 'nrelation': 11, 'fake': 'gs_l2', 'do_valid': False}\n",
      "2023-12-19 20:11:46,734 INFO     learning_rate = 0.000500\n",
      "2023-12-19 20:11:47,192 INFO     Training average positive_sample_loss at step 0: 1.038202\n",
      "2023-12-19 20:11:47,195 INFO     Training average negative_sample_loss at step 0: 0.475400\n",
      "2023-12-19 20:11:47,196 INFO     Training average loss at step 0: 0.756801\n"
     ]
    }
   ],
   "source": [
    "## 使用transE模型，wn18rr数据集\n",
    "\n",
    "## 可修改model参数，训练rotate模型\n",
    "## 可修改data_path参数，指定训练的数据集\n",
    "## 可修改fake参数，添加何种受污染的数据\n",
    "\n",
    "## 在原有训练参数下，增加fake参数。该参数指定噪声样本的名字。\n",
    "\n",
    "base_args={\n",
    "    'cuda': True,\n",
    "    'evaluate_train': False,\n",
    "    'double_entity_embedding': False, \n",
    "    'double_relation_embedding': False, \n",
    "    'negative_sample_size': 1024, \n",
    "    'hidden_dim': 200, \n",
    "    'gamma': 6.0, \n",
    "    'negative_adversarial_sampling': True, \n",
    "    'adversarial_temperature': 0.5, \n",
    "    'regularization': 0.0, \n",
    "    'test_batch_size': 8, \n",
    "    'uni_weight': False, \n",
    "    'learning_rate': 0.0005,\n",
    "    'cpu_num': 10, \n",
    "    'comments': '\\n', \n",
    "}\n",
    "\n",
    "args={\n",
    "    'do_train': True, \n",
    "    'do_test': True, \n",
    "    'data_path': 'data/wn18rr', \n",
    "    'model': 'TransE', \n",
    "    'batch_size': 512, \n",
    "    'max_steps': 40000, ## 经验数据 RotatE FB15k-237 30000\n",
    "                        ## RotatE wn18rr 30000\n",
    "                        ## TransE FB15k-237 20000\n",
    "                        ## TransE wn18rr 40000\n",
    "    'warm_up_steps': 20000, \n",
    "    'no_save': True, \n",
    "    'save_path': './models/TransE_wn18rr_baseline', \n",
    "    'save_checkpoint_steps': 10000, \n",
    "    'valid_steps': 10000, \n",
    "    'log_steps': 2000, \n",
    "    'classify_steps': 5000, \n",
    "    'test_log_steps': 1000, \n",
    "    'nentity': 40943, \n",
    "    'nrelation': 11,\n",
    "    'fake':'gs_l2',\n",
    "    'do_valid':False\n",
    "}\n",
    "args = {**base_args,**args}\n",
    "log_filename = \"train\"\n",
    "set_logger(args, filename=log_filename)\n",
    "input_data = get_input_data(args)\n",
    "trainer = BaseTrainer.get_trainer(input_data, args)\n",
    "kge_model = trainer.kge_model\n",
    "logging.info('Start Training...')\n",
    "logging.info(f\"args is {args}\")\n",
    "logging.info('learning_rate = %f' % trainer.lr)\n",
    "for step in range(args['max_steps']):\n",
    "    trainer.basicTrainStep(step)\n"
   ]
  },
  {
   "cell_type": "markdown",
   "id": "dfb52e84-1887-444a-8b89-35985bcc1513",
   "metadata": {},
   "source": [
    "# 1. 测试结果"
   ]
  },
  {
   "cell_type": "code",
   "execution_count": 3,
   "id": "e0e85f34-35ee-4886-aaf2-7904fa2cd29f",
   "metadata": {},
   "outputs": [
    {
     "name": "stderr",
     "output_type": "stream",
     "text": [
      "2023-12-19 20:12:55,333 INFO     Evaluating on Test Dataset...\n",
      "2023-12-19 20:12:56,067 INFO     Evaluating the model... (0/26)\n",
      "2023-12-19 20:12:57,422 INFO     len of triple2mode2ranking: 100\n",
      "2023-12-19 20:12:57,457 INFO     Test MRR at step 1000: 0.304229\n",
      "2023-12-19 20:12:57,458 INFO     Test MR at step 1000: 6.350000\n",
      "2023-12-19 20:12:57,459 INFO     Test HITS@1 at step 1000: 0.000000\n",
      "2023-12-19 20:12:57,460 INFO     Test HITS@3 at step 1000: 0.525000\n",
      "2023-12-19 20:12:57,460 INFO     Test HITS@10 at step 1000: 0.910000\n",
      "2023-12-19 20:12:57,462 INFO     Test 10_MR at step 1000: 3.476471\n",
      "2023-12-19 20:12:57,462 INFO     Test 10_MRR at step 1000: 0.337038\n",
      "2023-12-19 20:12:57,463 INFO     Test 10_NUM at step 1000: 170.000000\n",
      "2023-12-19 20:12:57,463 INFO     Test 100_MR at step 1000: 18.750000\n",
      "2023-12-19 20:12:57,464 INFO     Test 100_MRR at step 1000: 0.125516\n",
      "2023-12-19 20:12:57,465 INFO     Test 100_NUM at step 1000: 28.000000\n"
     ]
    }
   ],
   "source": [
    "logging.info('Evaluating on Test Dataset...')\n",
    "metrics = kge_model.test_step(kge_model, input_data.test_triples, input_data.all_true_triples, args)\n",
    "log_metrics('Test', args['max_steps'], metrics)"
   ]
  },
  {
   "cell_type": "markdown",
   "id": "fab06f98-491f-45ec-add4-81c67925d661",
   "metadata": {},
   "source": [
    "# 2. 对比结果"
   ]
  },
  {
   "cell_type": "code",
   "execution_count": 4,
   "id": "f0f75287-beba-4b32-a68b-996118a56998",
   "metadata": {},
   "outputs": [
    {
     "name": "stderr",
     "output_type": "stream",
     "text": [
      "2023-12-19 20:13:03,879 INFO     \n",
      "\n",
      "2023-12-19 20:13:03,879 INFO     \n",
      "\n",
      "2023-12-19 20:13:03,883 INFO     Model: TransE\n",
      "2023-12-19 20:13:03,883 INFO     Model: TransE\n",
      "2023-12-19 20:13:03,885 INFO     Data Path: data/wn18rr\n",
      "2023-12-19 20:13:03,885 INFO     Data Path: data/wn18rr\n",
      "2023-12-19 20:13:03,886 INFO     #entity: 40943\n",
      "2023-12-19 20:13:03,886 INFO     #entity: 40943\n",
      "2023-12-19 20:13:03,887 INFO     #relation: 11\n",
      "2023-12-19 20:13:03,887 INFO     #relation: 11\n",
      "2023-12-19 20:13:03,890 INFO     #train: 86835\t#valid: 3034\t#test: 100\n",
      "2023-12-19 20:13:03,890 INFO     #train: 86835\t#valid: 3034\t#test: 100\n",
      "2023-12-19 20:13:05,287 INFO     Model Parameter Configuration:\n",
      "2023-12-19 20:13:05,287 INFO     Model Parameter Configuration:\n",
      "2023-12-19 20:13:05,289 INFO     Parameter gamma: torch.Size([1]), require_grad = False\n",
      "2023-12-19 20:13:05,289 INFO     Parameter gamma: torch.Size([1]), require_grad = False\n",
      "2023-12-19 20:13:05,291 INFO     Parameter embedding_range: torch.Size([1]), require_grad = False\n",
      "2023-12-19 20:13:05,291 INFO     Parameter embedding_range: torch.Size([1]), require_grad = False\n",
      "2023-12-19 20:13:05,292 INFO     Parameter entity_embedding: torch.Size([40943, 200]), require_grad = True\n",
      "2023-12-19 20:13:05,292 INFO     Parameter entity_embedding: torch.Size([40943, 200]), require_grad = True\n",
      "2023-12-19 20:13:05,294 INFO     Parameter relation_embedding: torch.Size([11, 200]), require_grad = True\n",
      "2023-12-19 20:13:05,294 INFO     Parameter relation_embedding: torch.Size([11, 200]), require_grad = True\n",
      "2023-12-19 20:13:05,650 INFO     Evaluating on Test Dataset...\n",
      "2023-12-19 20:13:05,650 INFO     Evaluating on Test Dataset...\n"
     ]
    },
    {
     "name": "stdout",
     "output_type": "stream",
     "text": [
      "load model from ./models/TransE_wn18rr_baseline/checkpoint\n"
     ]
    },
    {
     "name": "stderr",
     "output_type": "stream",
     "text": [
      "2023-12-19 20:13:06,466 INFO     Evaluating the model... (0/26)\n",
      "2023-12-19 20:13:06,466 INFO     Evaluating the model... (0/26)\n",
      "2023-12-19 20:13:07,773 INFO     len of triple2mode2ranking: 100\n",
      "2023-12-19 20:13:07,773 INFO     len of triple2mode2ranking: 100\n",
      "2023-12-19 20:13:07,795 INFO     Test MRR at step 1000: 0.368917\n",
      "2023-12-19 20:13:07,795 INFO     Test MRR at step 1000: 0.368917\n",
      "2023-12-19 20:13:07,797 INFO     Test MR at step 1000: 3.030000\n",
      "2023-12-19 20:13:07,797 INFO     Test MR at step 1000: 3.030000\n",
      "2023-12-19 20:13:07,798 INFO     Test HITS@1 at step 1000: 0.000000\n",
      "2023-12-19 20:13:07,798 INFO     Test HITS@1 at step 1000: 0.000000\n",
      "2023-12-19 20:13:07,800 INFO     Test HITS@3 at step 1000: 0.695000\n",
      "2023-12-19 20:13:07,800 INFO     Test HITS@3 at step 1000: 0.695000\n",
      "2023-12-19 20:13:07,801 INFO     Test HITS@10 at step 1000: 1.000000\n",
      "2023-12-19 20:13:07,801 INFO     Test HITS@10 at step 1000: 1.000000\n",
      "2023-12-19 20:13:07,803 INFO     Test 10_MR at step 1000: 3.030000\n",
      "2023-12-19 20:13:07,803 INFO     Test 10_MR at step 1000: 3.030000\n",
      "2023-12-19 20:13:07,804 INFO     Test 10_MRR at step 1000: 0.368917\n",
      "2023-12-19 20:13:07,804 INFO     Test 10_MRR at step 1000: 0.368917\n",
      "2023-12-19 20:13:07,805 INFO     Test 10_NUM at step 1000: 200.000000\n",
      "2023-12-19 20:13:07,805 INFO     Test 10_NUM at step 1000: 200.000000\n"
     ]
    }
   ],
   "source": [
    "args['fake']='empty'\n",
    "args['do_train'] = False\n",
    "args['do_valid'] = False\n",
    "args['init_checkpoint'] = args['save_path']\n",
    "log_filename = 'empty'\n",
    "dataset = args['data_path'].split(\"/\")[-1]\n",
    "args['save_path'] = \"./models/%s_%s_baseline\" % (args['model'], dataset)\n",
    "set_logger(args, filename=log_filename)\n",
    "input_data = get_input_data(args)\n",
    "trainer = BaseTrainer.get_trainer(input_data, args)\n",
    "trainer.load_model()\n",
    "kge_model = trainer.kge_model\n",
    "logging.info('Evaluating on Test Dataset...')\n",
    "metrics = kge_model.test_step(kge_model, input_data.test_triples, input_data.all_true_triples, args)\n",
    "log_metrics('Test', args['max_steps'], metrics)"
   ]
  }
 ],
 "metadata": {
  "kernelspec": {
   "display_name": "Python 3 (ipykernel)",
   "language": "python",
   "name": "python3"
  },
  "language_info": {
   "codemirror_mode": {
    "name": "ipython",
    "version": 3
   },
   "file_extension": ".py",
   "mimetype": "text/x-python",
   "name": "python",
   "nbconvert_exporter": "python",
   "pygments_lexer": "ipython3",
   "version": "3.8.10"
  }
 },
 "nbformat": 4,
 "nbformat_minor": 5
}
